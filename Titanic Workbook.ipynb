{
 "cells": [
  {
   "cell_type": "code",
   "execution_count": 1,
   "metadata": {
    "collapsed": false
   },
   "outputs": [],
   "source": [
    "# Patrick Daly\n",
    "# UMN Kaggle \n",
    "# July 2, 2015\n",
    "#\n",
    "# Titanic Data Set\n",
    "# - Machine Learning From Disaster\n",
    "# \n",
    "# July 2, 2015 - Basic modeling, just getting up and running with python\n",
    "# \n",
    "\n",
    "# Default BoilerPlate libs\n",
    "import pandas as pd\n",
    "from pandas import DataFrame, Series\n",
    "import numpy as np\n",
    "\n",
    "# Popular modeling libraries\n",
    "import statsmodels.api as sm\n",
    "from sklearn.ensemble import RandomForestRegressor\n",
    "from sklearn.linear_model import LogisticRegression\n",
    "from sklearn.ensemble import RandomForestClassifier\n",
    "from sklearn.ensemble import AdaBoostClassifier\n",
    "from sklearn.ensemble import GradientBoostingClassifier\n",
    "from sklearn.naive_bayes import BernoulliNB\n",
    "from sklearn.naive_bayes import MultinomialNB\n",
    "from sklearn.naive_bayes import GaussianNB \n",
    "from sklearn.linear_model import Perceptron\n",
    "from sklearn.linear_model import SGDClassifier\n",
    "from sklearn.grid_search import GridSearchCV\n",
    "# How to install XGBoost\n",
    "#\n",
    "# 1. using anaconda\n",
    "#  - $ conda install -c https://conda.binstar.org/aterrel xgboost\n",
    "# \n",
    "# 2. using git\n",
    "#  - create some folder and call it python packages or something, these\n",
    "#    will be libraries you build using \"make\". After you create the library\n",
    "#    $ cd nameoflibrary\n",
    "#    $ git clone https://github.com/dmlc/xgboost\n",
    "#    $ cd xgboost\n",
    "#    $ make\n",
    "#    $ cd wrapper\n",
    "#    $ sudo python setup.py install\n",
    "#\n",
    "# now xgboost should be installed\n",
    "from xgboost import XGBClassifier\n",
    "from sklearn.svm import SVC\n",
    "\n",
    "from sklearn.metrics import roc_auc_score\n",
    "from sklearn.metrics import roc_curve\n",
    "from sklearn.cross_validation import cross_val_score\n",
    "from sklearn.cross_validation import train_test_split\n",
    "\n",
    "# Plotting setttings\n",
    "%matplotlib inline\n",
    "import matplotlib.pyplot as plt\n",
    "\n",
    "# R style plotting\n",
    "# \n",
    "# How to install ggplot\n",
    "# 1. using anaconda\n",
    "#  - $ conda install -c https://conda.binstar.org/jacksongs ggplot\n",
    "#\n",
    "# 2. using git\n",
    "#  - $ pip install git+git://github.com/yhat/ggplot.git\n",
    "from ggplot import *\n",
    "\n",
    "# Better looking plotting\n",
    "import seaborn as sns\n",
    "sns.set_palette(\"deep\", desat = 0.6)\n",
    "sns.set_context(rc={\"figure.figsize\": (8,4)})\n",
    "\n",
    "# Suppress unnecessary errors\n",
    "import warnings\n",
    "warnings.filterwarnings('ignore')\n",
    "\n",
    "# Categorical variable descriptives\n",
    "def categorical_describe(df):\n",
    "    return df[df.columns[df.dtypes == 'object']].describe()\n",
    "\n",
    "# Create dummy vars for all categoricals\n",
    "def build_dummies(df):\n",
    "    categoricals = list( df.columns[ df.dtypes == 'object' ])\n",
    "    for variable in categoricals:\n",
    "        dummies = pd.get_dummies(df[variable])\n",
    "        df = pd.concat( [df, dummies], axis=1)\n",
    "        df.drop(variable, axis=1, inplace=True)\n",
    "    return df\n",
    "\n",
    "\n",
    "# 5 fold cross validation, return the mean of the model scores\n",
    "def cv_score(model, df):\n",
    "    X = df.drop('Survived', axis=1)\n",
    "    y = df['Survived']\n",
    "    scores = []\n",
    "    for _ in range(5):\n",
    "        X_train, X_test, y_train, y_test = train_test_split(X,y,train_size=0.8)\n",
    "        model.fit(X_train, y_train)\n",
    "        scores.append(model.score(X_test,y_test))\n",
    "    return np.mean(scores)\n",
    "\n",
    "train = pd.read_csv('train.csv', index_col='PassengerId')\n",
    "test = pd.read_csv('test.csv', index_col='PassengerId')"
   ]
  },
  {
   "cell_type": "markdown",
   "metadata": {},
   "source": [
    "# ...Figure out how to format this output later\n",
    "VARIABLE DESCRIPTIONS:\n",
    "survival        Survival\n",
    "                (0 = No; 1 = Yes)\n",
    "pclass          Passenger Class\n",
    "                (1 = 1st; 2 = 2nd; 3 = 3rd)\n",
    "name            Name\n",
    "sex             Sex\n",
    "age             Age\n",
    "sibsp           Number of Siblings/Spouses Aboard\n",
    "parch           Number of Parents/Children Aboard\n",
    "ticket          Ticket Number\n",
    "fare            Passenger Fare\n",
    "cabin           Cabin\n",
    "embarked        Port of Embarkation\n",
    "                (C = Cherbourg; Q = Queenstown; S = Southampton)\n",
    "\n",
    "SPECIAL NOTES:\n",
    "Pclass is a proxy for socio-economic status (SES)\n",
    " 1st ~ Upper; 2nd ~ Middle; 3rd ~ Lower\n",
    "\n",
    "Age is in Years; Fractional if Age less than One (1)\n",
    " If the Age is Estimated, it is in the form xx.5\n",
    "\n",
    "With respect to the family relation variables (i.e. sibsp and parch)\n",
    "some relations were ignored.  The following are the definitions used\n",
    "for sibsp and parch.\n",
    "\n",
    "Sibling:  Brother, Sister, Stepbrother, or Stepsister of Passenger Aboard Titanic\n",
    "Spouse:   Husband or Wife of Passenger Aboard Titanic (Mistresses and Fiances Ignored)\n",
    "Parent:   Mother or Father of Passenger Aboard Titanic\n",
    "Child:    Son, Daughter, Stepson, or Stepdaughter of Passenger Aboard Titanic\n",
    "\n",
    "Other family relatives excluded from this study include cousins,\n",
    "nephews/nieces, aunts/uncles, and in-laws.  Some children travelled\n",
    "only with a nanny, therefore parch=0 for them.  As well, some\n",
    "travelled with very close friends or neighbors in a village, however,\n",
    "the definitions do not support such relations."
   ]
  },
  {
   "cell_type": "code",
   "execution_count": 2,
   "metadata": {
    "collapsed": false
   },
   "outputs": [
    {
     "data": {
      "text/plain": [
       "(891, 11)"
      ]
     },
     "execution_count": 2,
     "metadata": {},
     "output_type": "execute_result"
    }
   ],
   "source": [
    "train.shape"
   ]
  },
  {
   "cell_type": "code",
   "execution_count": 3,
   "metadata": {
    "collapsed": false
   },
   "outputs": [
    {
     "data": {
      "text/html": [
       "<div>\n",
       "<table border=\"1\" class=\"dataframe\">\n",
       "  <thead>\n",
       "    <tr style=\"text-align: right;\">\n",
       "      <th></th>\n",
       "      <th>Survived</th>\n",
       "      <th>Pclass</th>\n",
       "      <th>Name</th>\n",
       "      <th>Sex</th>\n",
       "      <th>Age</th>\n",
       "      <th>SibSp</th>\n",
       "      <th>Parch</th>\n",
       "      <th>Ticket</th>\n",
       "      <th>Fare</th>\n",
       "      <th>Cabin</th>\n",
       "      <th>Embarked</th>\n",
       "    </tr>\n",
       "    <tr>\n",
       "      <th>PassengerId</th>\n",
       "      <th></th>\n",
       "      <th></th>\n",
       "      <th></th>\n",
       "      <th></th>\n",
       "      <th></th>\n",
       "      <th></th>\n",
       "      <th></th>\n",
       "      <th></th>\n",
       "      <th></th>\n",
       "      <th></th>\n",
       "      <th></th>\n",
       "    </tr>\n",
       "  </thead>\n",
       "  <tbody>\n",
       "    <tr>\n",
       "      <th>1</th>\n",
       "      <td>0</td>\n",
       "      <td>3</td>\n",
       "      <td>Braund, Mr. Owen Harris</td>\n",
       "      <td>male</td>\n",
       "      <td>22</td>\n",
       "      <td>1</td>\n",
       "      <td>0</td>\n",
       "      <td>A/5 21171</td>\n",
       "      <td>7.2500</td>\n",
       "      <td>NaN</td>\n",
       "      <td>S</td>\n",
       "    </tr>\n",
       "    <tr>\n",
       "      <th>2</th>\n",
       "      <td>1</td>\n",
       "      <td>1</td>\n",
       "      <td>Cumings, Mrs. John Bradley (Florence Briggs Th...</td>\n",
       "      <td>female</td>\n",
       "      <td>38</td>\n",
       "      <td>1</td>\n",
       "      <td>0</td>\n",
       "      <td>PC 17599</td>\n",
       "      <td>71.2833</td>\n",
       "      <td>C85</td>\n",
       "      <td>C</td>\n",
       "    </tr>\n",
       "    <tr>\n",
       "      <th>3</th>\n",
       "      <td>1</td>\n",
       "      <td>3</td>\n",
       "      <td>Heikkinen, Miss. Laina</td>\n",
       "      <td>female</td>\n",
       "      <td>26</td>\n",
       "      <td>0</td>\n",
       "      <td>0</td>\n",
       "      <td>STON/O2. 3101282</td>\n",
       "      <td>7.9250</td>\n",
       "      <td>NaN</td>\n",
       "      <td>S</td>\n",
       "    </tr>\n",
       "    <tr>\n",
       "      <th>4</th>\n",
       "      <td>1</td>\n",
       "      <td>1</td>\n",
       "      <td>Futrelle, Mrs. Jacques Heath (Lily May Peel)</td>\n",
       "      <td>female</td>\n",
       "      <td>35</td>\n",
       "      <td>1</td>\n",
       "      <td>0</td>\n",
       "      <td>113803</td>\n",
       "      <td>53.1000</td>\n",
       "      <td>C123</td>\n",
       "      <td>S</td>\n",
       "    </tr>\n",
       "    <tr>\n",
       "      <th>5</th>\n",
       "      <td>0</td>\n",
       "      <td>3</td>\n",
       "      <td>Allen, Mr. William Henry</td>\n",
       "      <td>male</td>\n",
       "      <td>35</td>\n",
       "      <td>0</td>\n",
       "      <td>0</td>\n",
       "      <td>373450</td>\n",
       "      <td>8.0500</td>\n",
       "      <td>NaN</td>\n",
       "      <td>S</td>\n",
       "    </tr>\n",
       "  </tbody>\n",
       "</table>\n",
       "</div>"
      ],
      "text/plain": [
       "             Survived  Pclass  \\\n",
       "PassengerId                     \n",
       "1                   0       3   \n",
       "2                   1       1   \n",
       "3                   1       3   \n",
       "4                   1       1   \n",
       "5                   0       3   \n",
       "\n",
       "                                                          Name     Sex  Age  \\\n",
       "PassengerId                                                                   \n",
       "1                                      Braund, Mr. Owen Harris    male   22   \n",
       "2            Cumings, Mrs. John Bradley (Florence Briggs Th...  female   38   \n",
       "3                                       Heikkinen, Miss. Laina  female   26   \n",
       "4                 Futrelle, Mrs. Jacques Heath (Lily May Peel)  female   35   \n",
       "5                                     Allen, Mr. William Henry    male   35   \n",
       "\n",
       "             SibSp  Parch            Ticket     Fare Cabin Embarked  \n",
       "PassengerId                                                          \n",
       "1                1      0         A/5 21171   7.2500   NaN        S  \n",
       "2                1      0          PC 17599  71.2833   C85        C  \n",
       "3                0      0  STON/O2. 3101282   7.9250   NaN        S  \n",
       "4                1      0            113803  53.1000  C123        S  \n",
       "5                0      0            373450   8.0500   NaN        S  "
      ]
     },
     "execution_count": 3,
     "metadata": {},
     "output_type": "execute_result"
    }
   ],
   "source": [
    "train.head()"
   ]
  },
  {
   "cell_type": "code",
   "execution_count": 4,
   "metadata": {
    "collapsed": false
   },
   "outputs": [
    {
     "name": "stdout",
     "output_type": "stream",
     "text": [
      "<class 'pandas.core.frame.DataFrame'>\n",
      "Int64Index: 891 entries, 1 to 891\n",
      "Data columns (total 11 columns):\n",
      "Survived    891 non-null int64\n",
      "Pclass      891 non-null int64\n",
      "Name        891 non-null object\n",
      "Sex         891 non-null object\n",
      "Age         714 non-null float64\n",
      "SibSp       891 non-null int64\n",
      "Parch       891 non-null int64\n",
      "Ticket      891 non-null object\n",
      "Fare        891 non-null float64\n",
      "Cabin       204 non-null object\n",
      "Embarked    889 non-null object\n",
      "dtypes: float64(2), int64(4), object(5)\n",
      "memory usage: 83.5+ KB\n"
     ]
    }
   ],
   "source": [
    "# ~180 missing age values, ~700 missing cabin values and a few missing Embarked values\n",
    "train.info()"
   ]
  },
  {
   "cell_type": "code",
   "execution_count": 5,
   "metadata": {
    "collapsed": false,
    "scrolled": true
   },
   "outputs": [
    {
     "data": {
      "text/html": [
       "<div>\n",
       "<table border=\"1\" class=\"dataframe\">\n",
       "  <thead>\n",
       "    <tr style=\"text-align: right;\">\n",
       "      <th></th>\n",
       "      <th>Survived</th>\n",
       "      <th>Pclass</th>\n",
       "      <th>Age</th>\n",
       "      <th>SibSp</th>\n",
       "      <th>Parch</th>\n",
       "      <th>Fare</th>\n",
       "    </tr>\n",
       "  </thead>\n",
       "  <tbody>\n",
       "    <tr>\n",
       "      <th>count</th>\n",
       "      <td>891.000000</td>\n",
       "      <td>891.000000</td>\n",
       "      <td>714.000000</td>\n",
       "      <td>891.000000</td>\n",
       "      <td>891.000000</td>\n",
       "      <td>891.000000</td>\n",
       "    </tr>\n",
       "    <tr>\n",
       "      <th>mean</th>\n",
       "      <td>0.383838</td>\n",
       "      <td>2.308642</td>\n",
       "      <td>29.699118</td>\n",
       "      <td>0.523008</td>\n",
       "      <td>0.381594</td>\n",
       "      <td>32.204208</td>\n",
       "    </tr>\n",
       "    <tr>\n",
       "      <th>std</th>\n",
       "      <td>0.486592</td>\n",
       "      <td>0.836071</td>\n",
       "      <td>14.526497</td>\n",
       "      <td>1.102743</td>\n",
       "      <td>0.806057</td>\n",
       "      <td>49.693429</td>\n",
       "    </tr>\n",
       "    <tr>\n",
       "      <th>min</th>\n",
       "      <td>0.000000</td>\n",
       "      <td>1.000000</td>\n",
       "      <td>0.420000</td>\n",
       "      <td>0.000000</td>\n",
       "      <td>0.000000</td>\n",
       "      <td>0.000000</td>\n",
       "    </tr>\n",
       "    <tr>\n",
       "      <th>25%</th>\n",
       "      <td>0.000000</td>\n",
       "      <td>2.000000</td>\n",
       "      <td>20.125000</td>\n",
       "      <td>0.000000</td>\n",
       "      <td>0.000000</td>\n",
       "      <td>7.910400</td>\n",
       "    </tr>\n",
       "    <tr>\n",
       "      <th>50%</th>\n",
       "      <td>0.000000</td>\n",
       "      <td>3.000000</td>\n",
       "      <td>28.000000</td>\n",
       "      <td>0.000000</td>\n",
       "      <td>0.000000</td>\n",
       "      <td>14.454200</td>\n",
       "    </tr>\n",
       "    <tr>\n",
       "      <th>75%</th>\n",
       "      <td>1.000000</td>\n",
       "      <td>3.000000</td>\n",
       "      <td>38.000000</td>\n",
       "      <td>1.000000</td>\n",
       "      <td>0.000000</td>\n",
       "      <td>31.000000</td>\n",
       "    </tr>\n",
       "    <tr>\n",
       "      <th>max</th>\n",
       "      <td>1.000000</td>\n",
       "      <td>3.000000</td>\n",
       "      <td>80.000000</td>\n",
       "      <td>8.000000</td>\n",
       "      <td>6.000000</td>\n",
       "      <td>512.329200</td>\n",
       "    </tr>\n",
       "  </tbody>\n",
       "</table>\n",
       "</div>"
      ],
      "text/plain": [
       "         Survived      Pclass         Age       SibSp       Parch        Fare\n",
       "count  891.000000  891.000000  714.000000  891.000000  891.000000  891.000000\n",
       "mean     0.383838    2.308642   29.699118    0.523008    0.381594   32.204208\n",
       "std      0.486592    0.836071   14.526497    1.102743    0.806057   49.693429\n",
       "min      0.000000    1.000000    0.420000    0.000000    0.000000    0.000000\n",
       "25%      0.000000    2.000000   20.125000    0.000000    0.000000    7.910400\n",
       "50%      0.000000    3.000000   28.000000    0.000000    0.000000   14.454200\n",
       "75%      1.000000    3.000000   38.000000    1.000000    0.000000   31.000000\n",
       "max      1.000000    3.000000   80.000000    8.000000    6.000000  512.329200"
      ]
     },
     "execution_count": 5,
     "metadata": {},
     "output_type": "execute_result"
    }
   ],
   "source": [
    "# Numerical variable descriptives\n",
    "train.describe()"
   ]
  },
  {
   "cell_type": "code",
   "execution_count": 6,
   "metadata": {
    "collapsed": false,
    "scrolled": true
   },
   "outputs": [
    {
     "data": {
      "text/html": [
       "<div>\n",
       "<table border=\"1\" class=\"dataframe\">\n",
       "  <thead>\n",
       "    <tr style=\"text-align: right;\">\n",
       "      <th></th>\n",
       "      <th>Name</th>\n",
       "      <th>Sex</th>\n",
       "      <th>Ticket</th>\n",
       "      <th>Cabin</th>\n",
       "      <th>Embarked</th>\n",
       "    </tr>\n",
       "  </thead>\n",
       "  <tbody>\n",
       "    <tr>\n",
       "      <th>count</th>\n",
       "      <td>891</td>\n",
       "      <td>891</td>\n",
       "      <td>891</td>\n",
       "      <td>204</td>\n",
       "      <td>889</td>\n",
       "    </tr>\n",
       "    <tr>\n",
       "      <th>unique</th>\n",
       "      <td>891</td>\n",
       "      <td>2</td>\n",
       "      <td>681</td>\n",
       "      <td>147</td>\n",
       "      <td>3</td>\n",
       "    </tr>\n",
       "    <tr>\n",
       "      <th>top</th>\n",
       "      <td>Graham, Mr. George Edward</td>\n",
       "      <td>male</td>\n",
       "      <td>CA. 2343</td>\n",
       "      <td>C23 C25 C27</td>\n",
       "      <td>S</td>\n",
       "    </tr>\n",
       "    <tr>\n",
       "      <th>freq</th>\n",
       "      <td>1</td>\n",
       "      <td>577</td>\n",
       "      <td>7</td>\n",
       "      <td>4</td>\n",
       "      <td>644</td>\n",
       "    </tr>\n",
       "  </tbody>\n",
       "</table>\n",
       "</div>"
      ],
      "text/plain": [
       "                             Name   Sex    Ticket        Cabin Embarked\n",
       "count                         891   891       891          204      889\n",
       "unique                        891     2       681          147        3\n",
       "top     Graham, Mr. George Edward  male  CA. 2343  C23 C25 C27        S\n",
       "freq                            1   577         7            4      644"
      ]
     },
     "execution_count": 6,
     "metadata": {},
     "output_type": "execute_result"
    }
   ],
   "source": [
    "categorical_describe(train)"
   ]
  },
  {
   "cell_type": "code",
   "execution_count": 7,
   "metadata": {
    "collapsed": false
   },
   "outputs": [
    {
     "data": {
      "image/png": "[encoded data removed]",
      "text/plain": [
       "<matplotlib.figure.Figure at 0x7f5319a5ff90>"
      ]
     },
     "metadata": {},
     "output_type": "display_data"
    }
   ],
   "source": [
    "sns.pairplot( train, diag_kind = 'kde', hue='Survived');"
   ]
  },
  {
   "cell_type": "code",
   "execution_count": null,
   "metadata": {
    "collapsed": true
   },
   "outputs": [],
   "source": [
    "tr = train.dropna().copy()\n",
    "fig, axs = plt.subplots(4,2, figsize=(15,10))\n",
    "fig.tight_layout()\n",
    "sns.distplot(tr['Survived'], ax=axs[0][0]);\n",
    "sns.distplot(tr['Pclass'], ax=axs[0][1]);\n",
    "sns.distplot(tr['Age'], ax=axs[1][0]);\n",
    "sns.distplot(tr['SibSp'], ax=axs[1][1]);\n",
    "sns.distplot(tr['Parch'], ax=axs[2][0]);\n",
    "sns.distplot(tr['Fare'], ax=axs[2][1]);\n",
    "sns.barplot(tr['Sex'], ax=axs[3][0], color = ['grey', 'red']);\n",
    "sns.barplot(tr['Embarked'], ax=axs[3][1], color = ['grey', 'grey', 'red']);"
   ]
  },
  {
   "cell_type": "code",
   "execution_count": 2,
   "metadata": {
    "collapsed": false
   },
   "outputs": [],
   "source": [
    "# Clean up the vars\n",
    "train_clean = train.copy()\n",
    "\n",
    "# Combine SibSp and Parch to create a new feature FamilySize\n",
    "train_clean['FamilySize'] = train_clean['SibSp'] + train_clean['Parch'] + 1\n",
    "\n",
    "# Combine last name + family size to unique identify a family\n",
    "train_clean['Family'] = train_clean['Name'].apply(lambda name: name.split(',')[0]) + \\\n",
    "                        train_clean['FamilySize'].apply(lambda size: str(size))\n",
    "\n",
    "# Title - deal with this later, sounds like regex...\n",
    "\n",
    "# set some dummy vars for categorical data or use build_dummies\n",
    "# train_clean['Sex'] = train_clean['Sex'].map( {'male':1, 'female':0} ).astype(int)\n",
    "\n",
    "# only 2 w/o departing values, impute the most frequent, 'S'\n",
    "# train_clean['Embarked'].fillna(value=train_clean['Embarked'].mode()[0], inplace=True)\n",
    "\n",
    "# drop ticket, name and cabin for now, maybe incorporate them later\n",
    "train_clean.drop(['Ticket', 'Cabin', 'Embarked', 'Name'], axis=1, inplace=True)\n",
    "\n",
    "# get them dummies!\n",
    "train_clean = build_dummies(train_clean)"
   ]
  },
  {
   "cell_type": "code",
   "execution_count": 30,
   "metadata": {
    "collapsed": false
   },
   "outputs": [
    {
     "data": {
      "text/html": [
       "<div>\n",
       "<table border=\"1\" class=\"dataframe\">\n",
       "  <thead>\n",
       "    <tr style=\"text-align: right;\">\n",
       "      <th></th>\n",
       "      <th>Survived</th>\n",
       "      <th>Pclass</th>\n",
       "      <th>Age</th>\n",
       "      <th>SibSp</th>\n",
       "      <th>Parch</th>\n",
       "      <th>Fare</th>\n",
       "      <th>FamilySize</th>\n",
       "      <th>female</th>\n",
       "      <th>male</th>\n",
       "    </tr>\n",
       "    <tr>\n",
       "      <th>PassengerId</th>\n",
       "      <th></th>\n",
       "      <th></th>\n",
       "      <th></th>\n",
       "      <th></th>\n",
       "      <th></th>\n",
       "      <th></th>\n",
       "      <th></th>\n",
       "      <th></th>\n",
       "      <th></th>\n",
       "    </tr>\n",
       "  </thead>\n",
       "  <tbody>\n",
       "    <tr>\n",
       "      <th>1</th>\n",
       "      <td>0</td>\n",
       "      <td>3</td>\n",
       "      <td>22</td>\n",
       "      <td>1</td>\n",
       "      <td>0</td>\n",
       "      <td>7.2500</td>\n",
       "      <td>2</td>\n",
       "      <td>0</td>\n",
       "      <td>1</td>\n",
       "    </tr>\n",
       "    <tr>\n",
       "      <th>2</th>\n",
       "      <td>1</td>\n",
       "      <td>1</td>\n",
       "      <td>38</td>\n",
       "      <td>1</td>\n",
       "      <td>0</td>\n",
       "      <td>71.2833</td>\n",
       "      <td>2</td>\n",
       "      <td>1</td>\n",
       "      <td>0</td>\n",
       "    </tr>\n",
       "    <tr>\n",
       "      <th>3</th>\n",
       "      <td>1</td>\n",
       "      <td>3</td>\n",
       "      <td>26</td>\n",
       "      <td>0</td>\n",
       "      <td>0</td>\n",
       "      <td>7.9250</td>\n",
       "      <td>1</td>\n",
       "      <td>1</td>\n",
       "      <td>0</td>\n",
       "    </tr>\n",
       "    <tr>\n",
       "      <th>4</th>\n",
       "      <td>1</td>\n",
       "      <td>1</td>\n",
       "      <td>35</td>\n",
       "      <td>1</td>\n",
       "      <td>0</td>\n",
       "      <td>53.1000</td>\n",
       "      <td>2</td>\n",
       "      <td>1</td>\n",
       "      <td>0</td>\n",
       "    </tr>\n",
       "    <tr>\n",
       "      <th>5</th>\n",
       "      <td>0</td>\n",
       "      <td>3</td>\n",
       "      <td>35</td>\n",
       "      <td>0</td>\n",
       "      <td>0</td>\n",
       "      <td>8.0500</td>\n",
       "      <td>1</td>\n",
       "      <td>0</td>\n",
       "      <td>1</td>\n",
       "    </tr>\n",
       "  </tbody>\n",
       "</table>\n",
       "</div>"
      ],
      "text/plain": [
       "             Survived  Pclass  Age  SibSp  Parch     Fare  FamilySize  female  \\\n",
       "PassengerId                                                                     \n",
       "1                   0       3   22      1      0   7.2500           2       0   \n",
       "2                   1       1   38      1      0  71.2833           2       1   \n",
       "3                   1       3   26      0      0   7.9250           1       1   \n",
       "4                   1       1   35      1      0  53.1000           2       1   \n",
       "5                   0       3   35      0      0   8.0500           1       0   \n",
       "\n",
       "             male  \n",
       "PassengerId        \n",
       "1               1  \n",
       "2               0  \n",
       "3               0  \n",
       "4               0  \n",
       "5               1  "
      ]
     },
     "execution_count": 30,
     "metadata": {},
     "output_type": "execute_result"
    }
   ],
   "source": [
    "train_clean.head()"
   ]
  },
  {
   "cell_type": "code",
   "execution_count": 3,
   "metadata": {
    "collapsed": false
   },
   "outputs": [],
   "source": [
    "# fill in sex using a linear model (do not use survived as a predictor)\n",
    "train_age_model = train_clean.dropna().copy()\n",
    "y = train_age_model['Age']\n",
    "X = train_age_model.drop(['Age', 'Survived'], axis=1)\n",
    "age_ols = sm.OLS(y,X)\n",
    "age_ols_fit = age_ols.fit()\n",
    "#print age_ols_fit.summary()"
   ]
  },
  {
   "cell_type": "code",
   "execution_count": 4,
   "metadata": {
    "collapsed": false
   },
   "outputs": [],
   "source": [
    "# good enough for now\n",
    "#\n",
    "# this next part can be done cleaner... but it works\n",
    "# get the dataframe where Age is NaN and drop that column so we have the predictors associated with the\n",
    "#   NaN age values\n",
    "train_age_missing = train_clean[train_clean['Age'].isnull()]\n",
    "train_age_missing.drop(['Age','Survived'], axis=1, inplace=True)\n",
    "# replace missing Age vals with the predicted vals\n",
    "train_clean['Age'][train_clean['Age'].isnull()] = age_ols_fit.predict(train_age_missing)"
   ]
  },
  {
   "cell_type": "markdown",
   "metadata": {},
   "source": [
    "# Model sandbox\n",
    "### Most are out of the box, a few I've added a minor change or two. Do a parameter sweep, plot the results and optimize the models. Lots to do here but this is a start. Type \"shift + tab\"  w/in the parenthesis to see what options are avaible to each model or check online."
   ]
  },
  {
   "cell_type": "code",
   "execution_count": null,
   "metadata": {
    "collapsed": true
   },
   "outputs": [],
   "source": [
    "# Hill Climbing / Grid Search - overfit the shit outta everything!\n",
    "# from sklearn.grid_search import GridSearchCV\n",
    "# param_grid = {'C': [0.001, 0.01, 0.1, 1, 10, 100, 1000]}\n",
    "# clf = GridSearchCV( LogisticRegression(), param_grid)\n",
    "# clf.fit(X,y)\n",
    "# clf.grid_scores_\n",
    "#\n",
    "# place w/e the model is for LogisticRegression and any number of parameters in the param_grid dictionary,\n",
    "#   the algorithm will just run the fit over and over with different values of the parameter and spit back\n",
    "#   the results. One clear use for this is sweeping across 'n_estimators' values which is found in most models."
   ]
  },
  {
   "cell_type": "code",
   "execution_count": 5,
   "metadata": {
    "collapsed": false
   },
   "outputs": [
    {
     "data": {
      "text/plain": [
       "0.55083798882681567"
      ]
     },
     "execution_count": 5,
     "metadata": {},
     "output_type": "execute_result"
    }
   ],
   "source": [
    "# 1. Logistic Regression - > Benchmark\n",
    "logit = LogisticRegression()\n",
    "logit_scores = cv_score(logit, train_clean)\n",
    "logit_scores"
   ]
  },
  {
   "cell_type": "code",
   "execution_count": 6,
   "metadata": {
    "collapsed": false
   },
   "outputs": [
    {
     "data": {
      "text/plain": [
       "0.8100558659217878"
      ]
     },
     "execution_count": 6,
     "metadata": {},
     "output_type": "execute_result"
    }
   ],
   "source": [
    "# 2. Random Forest Classification\n",
    "rf = RandomForestClassifier(n_estimators=100)\n",
    "rf_scores = cv_score(rf, train_clean)\n",
    "rf_scores"
   ]
  },
  {
   "cell_type": "code",
   "execution_count": 35,
   "metadata": {
    "collapsed": false,
    "scrolled": true
   },
   "outputs": [
    {
     "data": {
      "text/plain": [
       "[mean: 0.80696, std: 0.01384, params: {'n_estimators': 20},\n",
       " mean: 0.81706, std: 0.01950, params: {'n_estimators': 30},\n",
       " mean: 0.80359, std: 0.02222, params: {'n_estimators': 40},\n",
       " mean: 0.82043, std: 0.02554, params: {'n_estimators': 50},\n",
       " mean: 0.80920, std: 0.03028, params: {'n_estimators': 60},\n",
       " mean: 0.81145, std: 0.02623, params: {'n_estimators': 70},\n",
       " mean: 0.81369, std: 0.01830, params: {'n_estimators': 80},\n",
       " mean: 0.81481, std: 0.02623, params: {'n_estimators': 90},\n",
       " mean: 0.81145, std: 0.02749, params: {'n_estimators': 100},\n",
       " mean: 0.81481, std: 0.02199, params: {'n_estimators': 110},\n",
       " mean: 0.81369, std: 0.01767, params: {'n_estimators': 120},\n",
       " mean: 0.81257, std: 0.01950, params: {'n_estimators': 130},\n",
       " mean: 0.81369, std: 0.02642, params: {'n_estimators': 140},\n",
       " mean: 0.81145, std: 0.02623, params: {'n_estimators': 150},\n",
       " mean: 0.81481, std: 0.02708, params: {'n_estimators': 160},\n",
       " mean: 0.81818, std: 0.01803, params: {'n_estimators': 170},\n",
       " mean: 0.81594, std: 0.02222, params: {'n_estimators': 180},\n",
       " mean: 0.82043, std: 0.02914, params: {'n_estimators': 190}]"
      ]
     },
     "execution_count": 35,
     "metadata": {},
     "output_type": "execute_result"
    }
   ],
   "source": [
    "# Example showing GridSearch\n",
    "X = train_clean.drop('Survived', axis=1)\n",
    "y = train_clean['Survived']\n",
    "param_grid = {\n",
    "    'n_estimators': range(20,200,10)\n",
    "}\n",
    "clf = GridSearchCV(RandomForestClassifier(), param_grid)\n",
    "clf.fit(X,y)\n",
    "clf.grid_scores_"
   ]
  },
  {
   "cell_type": "code",
   "execution_count": 36,
   "metadata": {
    "collapsed": false
   },
   "outputs": [
    {
     "data": {
      "text/plain": [
       "0.80335195530726256"
      ]
     },
     "execution_count": 36,
     "metadata": {},
     "output_type": "execute_result"
    }
   ],
   "source": [
    "# 3. AdaBoost Classification\n",
    "ada = AdaBoostClassifier()\n",
    "ada_scores = cv_score(ada, train_clean)\n",
    "ada_scores"
   ]
  },
  {
   "cell_type": "code",
   "execution_count": 37,
   "metadata": {
    "collapsed": false
   },
   "outputs": [
    {
     "data": {
      "text/plain": [
       "0.82681564245810057"
      ]
     },
     "execution_count": 37,
     "metadata": {},
     "output_type": "execute_result"
    }
   ],
   "source": [
    "# 4. Gradient Boosting Classification\n",
    "gbc = GradientBoostingClassifier()\n",
    "gbc_scores = cv_score(gbc, train_clean)\n",
    "gbc_scores"
   ]
  },
  {
   "cell_type": "code",
   "execution_count": 38,
   "metadata": {
    "collapsed": false
   },
   "outputs": [
    {
     "data": {
      "text/plain": [
       "0.81675977653631282"
      ]
     },
     "execution_count": 38,
     "metadata": {},
     "output_type": "execute_result"
    }
   ],
   "source": [
    "# 5. XGBoost (Extreme Gradient Boosting) Classification\n",
    "xgb = XGBClassifier()\n",
    "xgb_scores = cv_score(xgb, train_clean)\n",
    "xgb_scores"
   ]
  },
  {
   "cell_type": "code",
   "execution_count": 39,
   "metadata": {
    "collapsed": false
   },
   "outputs": [
    {
     "data": {
      "text/plain": [
       "0.7787709497206704"
      ]
     },
     "execution_count": 39,
     "metadata": {},
     "output_type": "execute_result"
    }
   ],
   "source": [
    "# 6. Support Vector Machine Classification\n",
    "svm = SVC(kernel='linear')\n",
    "svm_scores = cv_score(svm, train_clean)\n",
    "svm_scores"
   ]
  },
  {
   "cell_type": "code",
   "execution_count": 11,
   "metadata": {
    "collapsed": false
   },
   "outputs": [
    {
     "data": {
      "text/plain": [
       "0.49832402234636869"
      ]
     },
     "execution_count": 11,
     "metadata": {},
     "output_type": "execute_result"
    }
   ],
   "source": [
    "# 7. Gaussian Naive Bayes\n",
    "gnb = GaussianNB()\n",
    "gnb_scores = cv_score(gnb, train_clean)\n",
    "gnb_scores"
   ]
  },
  {
   "cell_type": "code",
   "execution_count": null,
   "metadata": {
    "collapsed": true
   },
   "outputs": [],
   "source": [
    "# 8. Multinomial Naive Bayes\n",
    "#   odd error with this one, fix later\n",
    "mnb = MultinomialNB()\n",
    "mnb_scores = cv_score(mnb, train_clean)\n",
    "mnb_scores"
   ]
  },
  {
   "cell_type": "code",
   "execution_count": 13,
   "metadata": {
    "collapsed": false
   },
   "outputs": [
    {
     "data": {
      "text/plain": [
       "0.7932960893854748"
      ]
     },
     "execution_count": 13,
     "metadata": {},
     "output_type": "execute_result"
    }
   ],
   "source": [
    "# 9. Bernouli Naive Bayes\n",
    "bnb = BernoulliNB()\n",
    "bnb_scores = cv_score(bnb, train_clean)\n",
    "bnb_scores"
   ]
  },
  {
   "cell_type": "code",
   "execution_count": 14,
   "metadata": {
    "collapsed": false
   },
   "outputs": [
    {
     "data": {
      "text/plain": [
       "0.50055865921787712"
      ]
     },
     "execution_count": 14,
     "metadata": {},
     "output_type": "execute_result"
    }
   ],
   "source": [
    "# 10. Perceptron\n",
    "ptron = Perceptron(n_iter=1000)\n",
    "ptron_scores = cv_score(ptron, train_clean)\n",
    "ptron_scores"
   ]
  },
  {
   "cell_type": "code",
   "execution_count": 15,
   "metadata": {
    "collapsed": false
   },
   "outputs": [
    {
     "data": {
      "text/plain": [
       "0.50949720670391063"
      ]
     },
     "execution_count": 15,
     "metadata": {},
     "output_type": "execute_result"
    }
   ],
   "source": [
    "# 11. Stochastic Gradient Descent\n",
    "sgd = SGDClassifier(loss='modified_huber', n_iter=500)\n",
    "sgd_scores = cv_score(sgd, train_clean)\n",
    "sgd_scores"
   ]
  },
  {
   "cell_type": "code",
   "execution_count": null,
   "metadata": {
    "collapsed": false
   },
   "outputs": [],
   "source": [
    "# Roc benchmark curves\n",
    "X = train_clean.drop('Survived', axis=1)\n",
    "y = train_clean['Survived']\n",
    "X_train, X_test, y_train, y_test = train_test_split(X,y, train_size=0.8)\n",
    "\n",
    "clfs = [\n",
    "    ('Logistic Regression', LogisticRegression()),\n",
    "    ('Random Forest Classification', RandomForestClassifier(n_estimators=100)),\n",
    "    ('AdaBoost', AdaBoostClassifier()),\n",
    "    ('Gradient Boosting', GradientBoostingClassifier()),\n",
    "    ('XGBoost', XGBClassifier()),\n",
    "    ('SVM', SVC(probability=True, kernel='linear')),\n",
    "    ('Gaussian Naive Bayes', GaussianNB()),\n",
    "    #('Multinomial Naive Bayes', MultinomialNB()), # odd negative error prevents this from learning\n",
    "    ('Bernoulli Naive Bayes', BernoulliNB()),\n",
    "    #('Perceptron', Perceptron(n_iter=100)), # no predict_proba method for some reason\n",
    "    ('SGD', SGDClassifier(loss='modified_huber', n_iter=500))\n",
    "]\n",
    "all_results = None\n",
    "for name, clf in clfs:\n",
    "    clf.fit(X_train.to_dense(), y_train)\n",
    "    probs = clf.predict_proba(X_test.to_dense())[:,1]\n",
    "    fpr, tpr, thresh = roc_curve(y_test, probs)\n",
    "    results = DataFrame({\n",
    "            'name': name,\n",
    "            'fpr': fpr,\n",
    "            'tpr': tpr\n",
    "        })\n",
    "    if all_results is None:\n",
    "        all_results = results\n",
    "    else:\n",
    "        all_results = all_results.append(results)\n",
    "\n",
    "ggplot(aes(x='fpr', y='tpr', color='name'), data=all_results) + \\\n",
    "    geom_step() + \\\n",
    "    geom_abline(color='black') + \\\n",
    "    ggtitle('Fit Benchmarking')"
   ]
  },
  {
   "cell_type": "code",
   "execution_count": null,
   "metadata": {
    "collapsed": false
   },
   "outputs": [],
   "source": [
    "# Experimenting with line visualization... update later\n",
    "ggplot(aes(x='fpr', y='tpr', color='name'), data=all_results) + \\\n",
    "    geom_line() + \\\n",
    "    geom_abline(color='black') + \\\n",
    "    ggtitle('Fit Benchmarking')"
   ]
  },
  {
   "cell_type": "code",
   "execution_count": null,
   "metadata": {
    "collapsed": true
   },
   "outputs": [],
   "source": []
  }
 ],
 "metadata": {
  "kernelspec": {
   "display_name": "Python 2",
   "language": "python",
   "name": "python2"
  },
  "language_info": {
   "codemirror_mode": {
    "name": "ipython",
    "version": 2
   },
   "file_extension": ".py",
   "mimetype": "text/x-python",
   "name": "python",
   "nbconvert_exporter": "python",
   "pygments_lexer": "ipython2",
   "version": "2.7.6"
  }
 },
 "nbformat": 4,
 "nbformat_minor": 0
}
